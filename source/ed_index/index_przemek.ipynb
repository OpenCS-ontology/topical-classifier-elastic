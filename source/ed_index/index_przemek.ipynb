{
 "cells": [
  {
   "cell_type": "code",
   "execution_count": 1,
   "id": "destroyed-authority",
   "metadata": {},
   "outputs": [],
   "source": [
    "import rdflib \n",
    "from rdflib import Graph"
   ]
  },
  {
   "cell_type": "markdown",
   "id": "technical-refund",
   "metadata": {},
   "source": [
    "# Tests"
   ]
  },
  {
   "cell_type": "code",
   "execution_count": 2,
   "id": "physical-necklace",
   "metadata": {},
   "outputs": [
    {
     "name": "stdout",
     "output_type": "stream",
     "text": [
      "9\n"
     ]
    }
   ],
   "source": [
    "d = \"\"\"\n",
    "@prefix ocs: <https://w3id.org/ocs/ont/> .\n",
    "@prefix skos: <http://www.w3.org/2004/02/skos/core#> .\n",
    "\n",
    "ocs:C1 a skos:Concept ;\n",
    "    skos:closeMatch <http://dbpedia.org/resource/Computer_science> ;\n",
    "    skos:prefLabel \"Computer science\" ;\n",
    "    skos:related ocs:C8,\n",
    "        ocs:C10,\n",
    "        ocs:C14,\n",
    "        ocs:C19,\n",
    "        ocs:C28,\n",
    "        ocs:C197 .\n",
    "\n",
    "\n",
    "\"\"\"\n",
    "\n",
    "graph = Graph()\n",
    "graph.parse(data=d)\n",
    "\n",
    "print(len(graph))"
   ]
  },
  {
   "cell_type": "code",
   "execution_count": 3,
   "id": "premium-syria",
   "metadata": {},
   "outputs": [
    {
     "data": {
      "text/plain": [
       "<generator object Graph.items at 0x000001F507FAD850>"
      ]
     },
     "execution_count": 3,
     "metadata": {},
     "output_type": "execute_result"
    }
   ],
   "source": [
    "graph.items(1)"
   ]
  },
  {
   "cell_type": "code",
   "execution_count": 4,
   "id": "understood-hungarian",
   "metadata": {},
   "outputs": [
    {
     "data": {
      "text/plain": [
       "<enumerate at 0x1f509d3e5c0>"
      ]
     },
     "execution_count": 4,
     "metadata": {},
     "output_type": "execute_result"
    }
   ],
   "source": [
    "enumerate(graph)"
   ]
  },
  {
   "cell_type": "code",
   "execution_count": 5,
   "id": "current-trace",
   "metadata": {
    "scrolled": true
   },
   "outputs": [
    {
     "name": "stdout",
     "output_type": "stream",
     "text": [
      "0\n",
      "https://w3id.org/ocs/ont/C1\n",
      "http://www.w3.org/2004/02/skos/core#related\n",
      "https://w3id.org/ocs/ont/C14\n",
      "1\n",
      "https://w3id.org/ocs/ont/C1\n",
      "http://www.w3.org/2004/02/skos/core#related\n",
      "https://w3id.org/ocs/ont/C10\n",
      "2\n",
      "https://w3id.org/ocs/ont/C1\n",
      "http://www.w3.org/2004/02/skos/core#related\n",
      "https://w3id.org/ocs/ont/C197\n",
      "3\n",
      "https://w3id.org/ocs/ont/C1\n",
      "http://www.w3.org/2004/02/skos/core#closeMatch\n",
      "http://dbpedia.org/resource/Computer_science\n",
      "4\n",
      "https://w3id.org/ocs/ont/C1\n",
      "http://www.w3.org/2004/02/skos/core#related\n",
      "https://w3id.org/ocs/ont/C28\n",
      "5\n",
      "https://w3id.org/ocs/ont/C1\n",
      "http://www.w3.org/2004/02/skos/core#related\n",
      "https://w3id.org/ocs/ont/C19\n",
      "6\n",
      "https://w3id.org/ocs/ont/C1\n",
      "http://www.w3.org/1999/02/22-rdf-syntax-ns#type\n",
      "http://www.w3.org/2004/02/skos/core#Concept\n",
      "7\n",
      "https://w3id.org/ocs/ont/C1\n",
      "http://www.w3.org/2004/02/skos/core#related\n",
      "https://w3id.org/ocs/ont/C8\n",
      "8\n",
      "https://w3id.org/ocs/ont/C1\n",
      "http://www.w3.org/2004/02/skos/core#prefLabel\n",
      "Computer science\n"
     ]
    }
   ],
   "source": [
    "for index, (sub, pred, obj) in enumerate(graph):\n",
    "    print(index)\n",
    "    print(sub)\n",
    "    print(pred)\n",
    "    print(obj)"
   ]
  },
  {
   "cell_type": "markdown",
   "id": "antique-apple",
   "metadata": {},
   "source": [
    "# Tests for main code"
   ]
  },
  {
   "cell_type": "code",
   "execution_count": 28,
   "id": "retained-education",
   "metadata": {},
   "outputs": [],
   "source": [
    "# finding all file\n",
    "\n",
    "import glob\n",
    "\n",
    "dirs = glob.glob('../../../OpenCS/ontology/core/*')\n",
    "files = []\n",
    "for i in dirs:\n",
    "    files += glob.glob(i + '/*.ttl')"
   ]
  },
  {
   "cell_type": "code",
   "execution_count": 30,
   "id": "conscious-teaching",
   "metadata": {},
   "outputs": [],
   "source": [
    "# importing all graphs\n",
    "\n",
    "graphs = []\n",
    "\n",
    "for f in files:\n",
    "    graph = Graph()\n",
    "    graph.parse(f, format='ttl')\n",
    "    graphs.append(graph)"
   ]
  },
  {
   "cell_type": "code",
   "execution_count": 31,
   "id": "underlying-glucose",
   "metadata": {},
   "outputs": [],
   "source": [
    "# finding unique relations\n",
    "\n",
    "preds = []\n",
    "\n",
    "for g in graphs:\n",
    "    for index, (sub, pred, obj) in enumerate(g):\n",
    "        preds.append(pred)\n",
    "        \n",
    "preds = list(set(preds))"
   ]
  },
  {
   "cell_type": "code",
   "execution_count": 32,
   "id": "chubby-brooks",
   "metadata": {},
   "outputs": [
    {
     "data": {
      "text/plain": [
       "[rdflib.term.URIRef('http://www.w3.org/2004/02/skos/core#related'),\n",
       " rdflib.term.URIRef('http://www.w3.org/1999/02/22-rdf-syntax-ns#type'),\n",
       " rdflib.term.URIRef('http://www.w3.org/2004/02/skos/core#broader'),\n",
       " rdflib.term.URIRef('http://www.w3.org/2004/02/skos/core#closeMatch'),\n",
       " rdflib.term.URIRef('http://www.w3.org/2004/02/skos/core#prefLabel')]"
      ]
     },
     "execution_count": 32,
     "metadata": {},
     "output_type": "execute_result"
    }
   ],
   "source": [
    "preds"
   ]
  },
  {
   "cell_type": "code",
   "execution_count": 33,
   "id": "suburban-greek",
   "metadata": {},
   "outputs": [],
   "source": [
    "# finding all name - label pairs\n",
    "labels_dict = {}\n",
    "\n",
    "for g in graphs:\n",
    "    for index, (sub, pred, obj) in enumerate(g):\n",
    "         if pred == rdflib.term.URIRef('http://www.w3.org/2004/02/skos/core#prefLabel'):\n",
    "                labels_dict.update({sub.split('/')[-1] : str(obj)})"
   ]
  },
  {
   "cell_type": "code",
   "execution_count": 11,
   "id": "accredited-leone",
   "metadata": {},
   "outputs": [],
   "source": [
    "# finding types\n",
    "for g in graphs:\n",
    "    for index, (sub, pred, obj) in enumerate(g):\n",
    "         if pred == rdflib.term.URIRef('http://www.w3.org/1999/02/22-rdf-syntax-ns#type'):\n",
    "                print(index)\n",
    "                print(sub)\n",
    "                print(pred)\n",
    "                print(obj)"
   ]
  },
  {
   "cell_type": "code",
   "execution_count": 34,
   "id": "5582d279",
   "metadata": {},
   "outputs": [],
   "source": [
    "# define template\n",
    "template = \"\"\"\n",
    "{\n",
    "    \"mappings\": {\n",
    "        \"properties\": {\n",
    "            \"name\": {\n",
    "                \"type\": \"text\"\n",
    "            },\n",
    "            \"label\": {\n",
    "                \"type\": \"text\"\n",
    "            },\n",
    "            \"type\": {\n",
    "                \"type\": \"text\"\n",
    "            },\n",
    "            \"closeMatch\": {\n",
    "                \"type\": \"text\"\n",
    "            },\n",
    "            \"related\": {\n",
    "                \"type\": \"text\"\n",
    "            },\n",
    "            \"broader\": {\n",
    "                \"type\": \"text\"\n",
    "            }\n",
    "        }\n",
    "    }\n",
    "}\n",
    "\"\"\"\n"
   ]
  },
  {
   "cell_type": "code",
   "execution_count": 35,
   "id": "5d84d1af",
   "metadata": {},
   "outputs": [],
   "source": [
    "import elasticsearch as es\n",
    "from elasticsearch import Elasticsearch\n",
    "from datetime import datetime"
   ]
  },
  {
   "cell_type": "code",
   "execution_count": 36,
   "id": "b8f208e8",
   "metadata": {},
   "outputs": [],
   "source": [
    "# function to connect to\n",
    "\n",
    "def connect_elasticsearch():\n",
    "    _es = None\n",
    "    _es = Elasticsearch([{'host': 'localhost', 'port': 9200}])\n",
    "    if _es.ping():\n",
    "        print('Yay Connected')\n",
    "    else:\n",
    "        print('Awww it could not connect!')\n",
    "    return _es"
   ]
  },
  {
   "cell_type": "code",
   "execution_count": 37,
   "id": "080d5fae",
   "metadata": {},
   "outputs": [],
   "source": [
    "# function to add row to index\n",
    "\n",
    "def store_record(es_object, index, data):\n",
    "    is_stored = True\n",
    "\n",
    "    try:\n",
    "        outcome = es_object.index(index=index, doc_type='_doc', body=json.dumps(data))\n",
    "        print(outcome)\n",
    "    except Exception as ex:\n",
    "        print('Error in indexing data')\n",
    "        print(str(ex))\n",
    "        is_stored = False\n",
    "    finally:\n",
    "        return is_stored"
   ]
  },
  {
   "cell_type": "code",
   "execution_count": 18,
   "id": "2627d4d9",
   "metadata": {},
   "outputs": [
    {
     "data": {
      "text/plain": [
       "{'acknowledged': True, 'shards_acknowledged': True, 'index': 'ontology'}"
      ]
     },
     "execution_count": 18,
     "metadata": {},
     "output_type": "execute_result"
    }
   ],
   "source": [
    "import requests \n",
    "import json\n",
    "\n",
    "query = json.loads(template)\n",
    "response = requests.put('http://localhost:9200/ontology',\n",
    "                       json=query)\n",
    "response.json()"
   ]
  },
  {
   "cell_type": "code",
   "execution_count": 38,
   "id": "a668682d",
   "metadata": {},
   "outputs": [
    {
     "name": "stdout",
     "output_type": "stream",
     "text": [
      "Yay Connected\n",
      "{'_index': 'ontology', '_type': '_doc', '_id': 'im8zL4UB0sfRnO4yHXRc', '_version': 1, 'result': 'created', '_shards': {'total': 2, 'successful': 1, 'failed': 0}, '_seq_no': 0, '_primary_term': 1}\n",
      "True\n",
      "Yay Connected\n",
      "{'_index': 'ontology', '_type': '_doc', '_id': 'i28zL4UB0sfRnO4yHXSz', '_version': 1, 'result': 'created', '_shards': {'total': 2, 'successful': 1, 'failed': 0}, '_seq_no': 1, '_primary_term': 1}\n",
      "True\n",
      "Yay Connected\n",
      "{'_index': 'ontology', '_type': '_doc', '_id': 'jG8zL4UB0sfRnO4yHnQY', '_version': 1, 'result': 'created', '_shards': {'total': 2, 'successful': 1, 'failed': 0}, '_seq_no': 2, '_primary_term': 1}\n",
      "True\n",
      "Yay Connected\n",
      "{'_index': 'ontology', '_type': '_doc', '_id': 'jW8zL4UB0sfRnO4yHnRQ', '_version': 1, 'result': 'created', '_shards': {'total': 2, 'successful': 1, 'failed': 0}, '_seq_no': 3, '_primary_term': 1}\n",
      "True\n",
      "Yay Connected\n",
      "{'_index': 'ontology', '_type': '_doc', '_id': 'jm8zL4UB0sfRnO4yHnSC', '_version': 1, 'result': 'created', '_shards': {'total': 2, 'successful': 1, 'failed': 0}, '_seq_no': 4, '_primary_term': 1}\n",
      "True\n",
      "Yay Connected\n",
      "{'_index': 'ontology', '_type': '_doc', '_id': 'j28zL4UB0sfRnO4yHnSk', '_version': 1, 'result': 'created', '_shards': {'total': 2, 'successful': 1, 'failed': 0}, '_seq_no': 5, '_primary_term': 1}\n",
      "True\n",
      "Yay Connected\n",
      "{'_index': 'ontology', '_type': '_doc', '_id': 'kG8zL4UB0sfRnO4yHnTD', '_version': 1, 'result': 'created', '_shards': {'total': 2, 'successful': 1, 'failed': 0}, '_seq_no': 6, '_primary_term': 1}\n",
      "True\n",
      "Yay Connected\n",
      "{'_index': 'ontology', '_type': '_doc', '_id': 'kW8zL4UB0sfRnO4yHnTp', '_version': 1, 'result': 'created', '_shards': {'total': 2, 'successful': 1, 'failed': 0}, '_seq_no': 7, '_primary_term': 1}\n",
      "True\n",
      "Yay Connected\n",
      "{'_index': 'ontology', '_type': '_doc', '_id': 'km8zL4UB0sfRnO4yH3QU', '_version': 1, 'result': 'created', '_shards': {'total': 2, 'successful': 1, 'failed': 0}, '_seq_no': 8, '_primary_term': 1}\n",
      "True\n",
      "Yay Connected\n",
      "{'_index': 'ontology', '_type': '_doc', '_id': 'k28zL4UB0sfRnO4yH3RB', '_version': 1, 'result': 'created', '_shards': {'total': 2, 'successful': 1, 'failed': 0}, '_seq_no': 9, '_primary_term': 1}\n",
      "True\n"
     ]
    }
   ],
   "source": [
    "for g in graphs:\n",
    "\n",
    "    name = None\n",
    "    labels = []\n",
    "    closeMatch = []\n",
    "    related = []\n",
    "    broader = []\n",
    "    type = None\n",
    "\n",
    "    for index, (sub, pred, obj) in enumerate(g):\n",
    "        name = sub.split('/')[-1]\n",
    "        if pred == rdflib.term.URIRef('http://www.w3.org/1999/02/22-rdf-syntax-ns#type'):\n",
    "            type = obj.split('#')[-1]\n",
    "        if pred == rdflib.term.URIRef('http://www.w3.org/2004/02/skos/core#broader'):\n",
    "            broader.append(obj.split('/')[-1])\n",
    "        if pred == rdflib.term.URIRef('http://www.w3.org/2004/02/skos/core#closeMatch'):\n",
    "            closeMatch.append(str(obj))\n",
    "        if pred == rdflib.term.URIRef('http://www.w3.org/2004/02/skos/core#related'):\n",
    "            related.append(obj.split('/')[-1])\n",
    "        if pred == rdflib.term.URIRef('http://www.w3.org/2004/02/skos/core#prefLabel'):\n",
    "            labels.append(str(obj))\n",
    "\n",
    "    for i in range(len(related)):\n",
    "        related[i] = labels_dict[related[i]]\n",
    "\n",
    "    for i in range(len(broader)):\n",
    "        broader[i] = labels_dict[broader[i]]\n",
    "\n",
    "    row = {\n",
    "        'name' : name,\n",
    "        'label' : labels,\n",
    "        'type' : type,\n",
    "        'closeMatch': closeMatch,\n",
    "        'related' : related,\n",
    "        'broader' : broader\n",
    "    }\n",
    "\n",
    "    data = row\n",
    "    es = connect_elasticsearch()\n",
    "    r = store_record(es, 'ontology', data)\n",
    "    print(r)"
   ]
  }
 ],
 "metadata": {
  "kernelspec": {
   "display_name": "sdp_env",
   "language": "python",
   "name": "python3"
  },
  "language_info": {
   "codemirror_mode": {
    "name": "ipython",
    "version": 3
   },
   "file_extension": ".py",
   "mimetype": "text/x-python",
   "name": "python",
   "nbconvert_exporter": "python",
   "pygments_lexer": "ipython3",
   "version": "3.10.8"
  },
  "vscode": {
   "interpreter": {
    "hash": "cb909539cb839e11f775ecf6d9728e5f3e2dc70caaa179a79ead8efd4e3c2239"
   }
  }
 },
 "nbformat": 4,
 "nbformat_minor": 5
}
