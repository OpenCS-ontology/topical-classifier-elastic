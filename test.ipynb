{
 "cells": [
  {
   "cell_type": "code",
   "execution_count": 1,
   "metadata": {},
   "outputs": [],
   "source": [
    "from datetime import datetime"
   ]
  },
  {
   "attachments": {},
   "cell_type": "markdown",
   "metadata": {},
   "source": [
    "Using elastic search may be inconvenient with Docker containers: https://github.com/elastic/elasticsearch-py/issues/1639"
   ]
  },
  {
   "cell_type": "code",
   "execution_count": null,
   "metadata": {},
   "outputs": [],
   "source": [
    "import elasticsearch as es"
   ]
  },
  {
   "cell_type": "code",
   "execution_count": 2,
   "metadata": {},
   "outputs": [],
   "source": [
    "# Make sure that Docker containers are running and localhost is responding (it make take a while to warm up) -> env_setup.ipynb\n",
    "client = es.Elasticsearch(\"http://localhost:9200\")"
   ]
  },
  {
   "cell_type": "code",
   "execution_count": null,
   "metadata": {},
   "outputs": [],
   "source": [
    "# test\n",
    "doc = {\n",
    "    'author': 'kimchy',\n",
    "    'text': 'Elasticsearch: cool. bonsai cool.',\n",
    "    'timestamp': datetime.now(),\n",
    "}\n",
    "resp = es.index(index=\"test-index\", id=1, document=doc)\n",
    "print(resp['result'])"
   ]
  },
  {
   "attachments": {},
   "cell_type": "markdown",
   "metadata": {},
   "source": [
    "Building requrests manually"
   ]
  },
  {
   "cell_type": "code",
   "execution_count": 2,
   "metadata": {},
   "outputs": [],
   "source": [
    "# define template with null mappings\n",
    "template = \"\"\"\n",
    "{\n",
    "    \"mappings\": {\n",
    "        \"properties\": {\n",
    "            \"age\": {\n",
    "                \"type\": \"long\",\n",
    "                \"null_value\": -1.0\n",
    "            },\n",
    "            \"education\": {\n",
    "                \"properties\": {\n",
    "                    \"education\": {\n",
    "                        \"type\": \"text\",\n",
    "                        \"fields\": {\n",
    "                            \"keyword\": {\n",
    "                                \"type\": \"keyword\",\n",
    "                                \"null_value\": \"NULL\",\n",
    "                                \"ignore_above\": 256\n",
    "                            }\n",
    "                        }\n",
    "                    },\n",
    "                    \"num\": {\n",
    "                        \"type\": \"long\",\n",
    "                        \"null_value\": -1.0\n",
    "                    }\n",
    "                }\n",
    "            },\n",
    "            \"finances\": {\n",
    "                \"properties\": {\n",
    "                    \"capital_gain\": {\n",
    "                        \"type\": \"long\",\n",
    "                        \"null_value\": -1.0\n",
    "                    },\n",
    "                    \"capital_loss\": {\n",
    "                        \"type\": \"long\",\n",
    "                        \"null_value\": -1.0\n",
    "                    },\n",
    "                    \"predicted_income\": {\n",
    "                        \"type\": \"text\",\n",
    "                        \"fields\": {\n",
    "                            \"keyword\": {\n",
    "                                \"type\": \"keyword\",\n",
    "                                \"null_value\": \"NULL\",\n",
    "                                \"ignore_above\": 256\n",
    "                            }\n",
    "                        }\n",
    "                    }\n",
    "                }\n",
    "            },\n",
    "            \"fnlwgt\": {\n",
    "                \"type\": \"long\",\n",
    "                \"null_value\": -1.0\n",
    "            },\n",
    "            \"native_country\": {\n",
    "                \"type\": \"text\",\n",
    "                \"fields\": {\n",
    "                    \"keyword\": {\n",
    "                        \"type\": \"keyword\",\n",
    "                        \"null_value\": \"NULL\",\n",
    "                        \"ignore_above\": 256\n",
    "                    }\n",
    "                }\n",
    "            },\n",
    "            \"race\": {\n",
    "                \"type\": \"text\",\n",
    "                \"fields\": {\n",
    "                    \"keyword\": {\n",
    "                        \"type\": \"keyword\",\n",
    "                        \"null_value\": \"NULL\",\n",
    "                        \"ignore_above\": 256\n",
    "                    }\n",
    "                }\n",
    "            },\n",
    "            \"relationship\": {\n",
    "                \"properties\": {\n",
    "                    \"marital_status\": {\n",
    "                        \"type\": \"text\",\n",
    "                        \"fields\": {\n",
    "                            \"keyword\": {\n",
    "                                \"type\": \"keyword\",\n",
    "                                \"null_value\": \"NULL\",\n",
    "                                \"ignore_above\": 256\n",
    "                            }\n",
    "                        }\n",
    "                    },\n",
    "                    \"relationship\": {\n",
    "                        \"type\": \"text\",\n",
    "                        \"fields\": {\n",
    "                            \"keyword\": {\n",
    "                                \"type\": \"keyword\",\n",
    "                                \"null_value\": \"NULL\",\n",
    "                                \"ignore_above\": 256\n",
    "                            }\n",
    "                        }\n",
    "                    }\n",
    "                }\n",
    "            },\n",
    "            \"sex\": {\n",
    "                \"type\": \"text\",\n",
    "                \"fields\": {\n",
    "                    \"keyword\": {\n",
    "                        \"type\": \"keyword\",\n",
    "                        \"null_value\": \"NULL\",\n",
    "                        \"ignore_above\": 256\n",
    "                    }\n",
    "                }\n",
    "            },\n",
    "            \"work\": {\n",
    "                \"properties\": {\n",
    "                    \"hours_per_week\": {\n",
    "                        \"type\": \"long\",\n",
    "                        \"null_value\": -1.0\n",
    "                    },\n",
    "                    \"occupation\": {\n",
    "                        \"type\": \"text\",\n",
    "                        \"fields\": {\n",
    "                            \"keyword\": {\n",
    "                                \"type\": \"keyword\",\n",
    "                                \"null_value\": \"NULL\",\n",
    "                                \"ignore_above\": 256\n",
    "                            }\n",
    "                        }\n",
    "                    },\n",
    "                    \"workclass\": {\n",
    "                        \"type\": \"text\",\n",
    "                        \"fields\": {\n",
    "                            \"keyword\": {\n",
    "                                \"type\": \"keyword\",\n",
    "                                \"null_value\": \"NULL\",\n",
    "                                \"ignore_above\": 256\n",
    "                            }\n",
    "                        }\n",
    "                    }\n",
    "                }\n",
    "            }\n",
    "        }\n",
    "    }\n",
    "}\n",
    "\"\"\"\n"
   ]
  },
  {
   "cell_type": "code",
   "execution_count": null,
   "metadata": {},
   "outputs": [],
   "source": [
    "# create the new index\n",
    "import requests \n",
    "import json\n",
    "\n",
    "query = json.loads(template)\n",
    "response = requests.put('http://localhost:9200/adults',\n",
    "                       json=query)\n",
    "response.json()"
   ]
  },
  {
   "cell_type": "code",
   "execution_count": 5,
   "metadata": {},
   "outputs": [],
   "source": [
    "from os import path\n",
    "# paths\n",
    "ENV_PATH = path.join(r\"C:\\Users\\golik\\.conda\\envs\\opencs_paperclassification\")"
   ]
  }
 ],
 "metadata": {
  "kernelspec": {
   "display_name": "opencs_paperclassification",
   "language": "python",
   "name": "python3"
  },
  "language_info": {
   "codemirror_mode": {
    "name": "ipython",
    "version": 3
   },
   "file_extension": ".py",
   "mimetype": "text/x-python",
   "name": "python",
   "nbconvert_exporter": "python",
   "pygments_lexer": "ipython3",
   "version": "3.10.8"
  },
  "orig_nbformat": 4,
  "vscode": {
   "interpreter": {
    "hash": "e19e9f2b36856563ab2bd45ec684e0202f5df76d9a6b6b3b9ea70b7e0077d416"
   }
  }
 },
 "nbformat": 4,
 "nbformat_minor": 2
}
