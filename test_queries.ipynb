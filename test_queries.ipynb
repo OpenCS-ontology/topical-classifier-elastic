{
 "cells": [
  {
   "attachments": {},
   "cell_type": "markdown",
   "metadata": {},
   "source": [
    "# Testing queries"
   ]
  },
  {
   "attachments": {},
   "cell_type": "markdown",
   "metadata": {},
   "source": [
    "source: https://www.elastic.co/guide/en/elasticsearch/reference/current/query-dsl-multi-match-query.html"
   ]
  },
  {
   "cell_type": "code",
   "execution_count": 58,
   "metadata": {},
   "outputs": [],
   "source": [
    "from elasticsearch import Elasticsearch\n",
    "\n",
    "def connect_elasticsearch():\n",
    "    _es = None\n",
    "    _es = Elasticsearch([{'host': 'localhost', 'port': 9200}])\n",
    "    if _es.ping():\n",
    "        print('Connected')\n",
    "    else:\n",
    "        print('Warning! No connection!')\n",
    "    return _es\n",
    "\n",
    "def findNbest(result, n):\n",
    "    bestLabels = []\n",
    "    for i in range(n):\n",
    "        bestLabels.append(result[\"hits\"][\"hits\"][i][\"_source\"][\"label\"])\n",
    "    return bestLabels\n",
    "\n",
    "def printResults(query, n):\n",
    "    es = connect_elasticsearch()\n",
    "    res = es.search(index = \"ontology_index\", body = query)\n",
    "    es.close()\n",
    "\n",
    "    return findNbest(res, n)"
   ]
  },
  {
   "cell_type": "code",
   "execution_count": 24,
   "metadata": {},
   "outputs": [],
   "source": [
    "article_name = \"Big Data Analytics for Advanced Viticulture\""
   ]
  },
  {
   "cell_type": "code",
   "execution_count": 76,
   "metadata": {},
   "outputs": [
    {
     "name": "stdout",
     "output_type": "stream",
     "text": [
      "Connected\n"
     ]
    },
    {
     "data": {
      "text/plain": [
       "[['Big data'],\n",
       " ['Data mining big data'],\n",
       " ['Big data data analysis'],\n",
       " ['Big data management'],\n",
       " ['Big data architecture'],\n",
       " ['Big data processing'],\n",
       " ['Big spatial data'],\n",
       " ['Geospatial big data'],\n",
       " ['Multimedia big data'],\n",
       " ['Big data security']]"
      ]
     },
     "execution_count": 76,
     "metadata": {},
     "output_type": "execute_result"
    }
   ],
   "source": [
    "query = {'query': {\n",
    "    \"match\": {\"label\" : article_name}\n",
    "    }\n",
    "}\n",
    "\n",
    "printResults(query, 10)"
   ]
  },
  {
   "cell_type": "code",
   "execution_count": 60,
   "metadata": {},
   "outputs": [
    {
     "name": "stdout",
     "output_type": "stream",
     "text": [
      "Connected\n"
     ]
    },
    {
     "data": {
      "text/plain": [
       "[['Small data'],\n",
       " ['Business analytics'],\n",
       " ['Prescriptive analytics'],\n",
       " ['Data analysis'],\n",
       " ['Behavioral analytics'],\n",
       " ['Data science'],\n",
       " ['Analytics'],\n",
       " ['Competitive intelligence'],\n",
       " ['Data discovery'],\n",
       " ['Data visualization']]"
      ]
     },
     "execution_count": 60,
     "metadata": {},
     "output_type": "execute_result"
    }
   ],
   "source": [
    "query = {'query': {\n",
    "    \"more_like_this\": {\"fields\" : [\"label\", \"related\", \"broader\"],\n",
    "                       \"like\" : article_name,\n",
    "                       \"min_term_freq\" : 1,\n",
    "                       \"max_query_terms\" : 12}\n",
    "    }\n",
    "}\n",
    "\n",
    "printResults(query, 10)"
   ]
  },
  {
   "cell_type": "code",
   "execution_count": 61,
   "metadata": {},
   "outputs": [
    {
     "name": "stdout",
     "output_type": "stream",
     "text": [
      "Connected\n"
     ]
    },
    {
     "data": {
      "text/plain": [
       "[['Urban analytics'],\n",
       " ['Healthcare analytics'],\n",
       " ['Real time analytics'],\n",
       " ['Small data'],\n",
       " ['Prescriptive analytics'],\n",
       " ['Business analytics'],\n",
       " ['Data analysis'],\n",
       " ['Behavioral analytics'],\n",
       " ['Data science'],\n",
       " ['Analytics']]"
      ]
     },
     "execution_count": 61,
     "metadata": {},
     "output_type": "execute_result"
    }
   ],
   "source": [
    "query = {\n",
    "  \"query\": {\n",
    "    \"multi_match\" : {\n",
    "      \"query\":    article_name, \n",
    "      \"fields\" : [\"label\", \"related\", \"broader\"]\n",
    "    }\n",
    "  }\n",
    "}\n",
    "\n",
    "printResults(query, 10)\n",
    "\n",
    "# najlepszy wynik ma  'broader': ['Big data', 'Analytics']"
   ]
  },
  {
   "cell_type": "code",
   "execution_count": 77,
   "metadata": {},
   "outputs": [
    {
     "name": "stdout",
     "output_type": "stream",
     "text": [
      "Connected\n"
     ]
    },
    {
     "data": {
      "text/plain": [
       "[['Big data'],\n",
       " ['Data mining big data'],\n",
       " ['Big data data analysis'],\n",
       " ['Big data management'],\n",
       " ['Big data architecture'],\n",
       " ['Big data processing'],\n",
       " ['Big spatial data'],\n",
       " ['Geospatial big data'],\n",
       " ['Multimedia big data'],\n",
       " ['Big data security']]"
      ]
     },
     "execution_count": 77,
     "metadata": {},
     "output_type": "execute_result"
    }
   ],
   "source": [
    "body = {\n",
    "  \"query\": {\n",
    "    \"multi_match\" : {\n",
    "      \"query\":    article_name, \n",
    "      \"fields\" : [\"label^3\", \"related\", \"broader\"]\n",
    "    }\n",
    "  }\n",
    "}\n",
    "\n",
    "printResults(query, 10)"
   ]
  },
  {
   "cell_type": "code",
   "execution_count": 63,
   "metadata": {},
   "outputs": [
    {
     "name": "stdout",
     "output_type": "stream",
     "text": [
      "Connected\n"
     ]
    },
    {
     "data": {
      "text/plain": [
       "[['Big data'],\n",
       " ['Big data data analysis'],\n",
       " ['Big data architecture'],\n",
       " ['Multimedia big data'],\n",
       " ['Big data mining'],\n",
       " ['Data mining big data'],\n",
       " ['Big data management'],\n",
       " ['Big data processing'],\n",
       " ['Big spatial data'],\n",
       " ['Geospatial big data']]"
      ]
     },
     "execution_count": 63,
     "metadata": {},
     "output_type": "execute_result"
    }
   ],
   "source": [
    "query = {\n",
    "  \"query\": {\n",
    "    \"multi_match\" : {\n",
    "      \"query\":      article_name,\n",
    "      \"type\":       \"best_fields\",\n",
    "      \"fields\":     [\"label^3\", \"related\", \"broader\"],\n",
    "      \"tie_breaker\": 0.3\n",
    "    }\n",
    "  }\n",
    "}\n",
    "\n",
    "printResults(query, 10)"
   ]
  },
  {
   "cell_type": "code",
   "execution_count": 67,
   "metadata": {},
   "outputs": [
    {
     "name": "stdout",
     "output_type": "stream",
     "text": [
      "Connected\n"
     ]
    },
    {
     "data": {
      "text/plain": [
       "[['Prescriptive analytics'],\n",
       " ['Big data'],\n",
       " ['Analytics'],\n",
       " ['Social analytics'],\n",
       " ['Learning analytics'],\n",
       " ['Big data data analysis'],\n",
       " ['Cultural analytics'],\n",
       " ['Big data architecture'],\n",
       " ['Multimedia big data'],\n",
       " ['Big data mining']]"
      ]
     },
     "execution_count": 67,
     "metadata": {},
     "output_type": "execute_result"
    }
   ],
   "source": [
    "query = {\n",
    "  \"query\": {\n",
    "    \"multi_match\" : {\n",
    "      \"query\":      article_name,\n",
    "      \"type\":       \"most_fields\",\n",
    "      \"fields\":     [\"label^3\", \"related\", \"broader\"]\n",
    "    }\n",
    "  }\n",
    "}\n",
    "\n",
    "printResults(query, 10)"
   ]
  },
  {
   "cell_type": "code",
   "execution_count": 74,
   "metadata": {},
   "outputs": [
    {
     "name": "stdout",
     "output_type": "stream",
     "text": [
      "Connected\n"
     ]
    },
    {
     "data": {
      "text/plain": [
       "[['Prescriptive analytics'],\n",
       " ['Big data data analysis'],\n",
       " ['Big data'],\n",
       " ['Urban analytics'],\n",
       " ['Healthcare analytics'],\n",
       " ['Big data architecture'],\n",
       " ['Multimedia big data'],\n",
       " ['Big data mining'],\n",
       " ['Social analytics'],\n",
       " ['Social data analytics']]"
      ]
     },
     "execution_count": 74,
     "metadata": {},
     "output_type": "execute_result"
    }
   ],
   "source": [
    "query = {\n",
    "  \"query\": {\n",
    "    \"multi_match\" : {\n",
    "      \"query\":      article_name,\n",
    "      \"type\":       \"bool_prefix\",\n",
    "      \"fields\":     [\"label^4\", \"related\", \"broader^2\"]\n",
    "    }\n",
    "  }\n",
    "}\n",
    "\n",
    "printResults(query, 10)"
   ]
  },
  {
   "attachments": {},
   "cell_type": "markdown",
   "metadata": {},
   "source": [
    "## Searching using also an abstract"
   ]
  },
  {
   "cell_type": "code",
   "execution_count": 98,
   "metadata": {},
   "outputs": [],
   "source": [
    "#article_name = \"Brain Tumor Detection from MRI using Adaptive Thresholding and Histogram based Techniques\"\n",
    "#abstract = \"This paper depicts a computerized framework that can distinguish brain tumor and investigate the diverse highlights of the tumor. Brain tumor segmentation means to isolated the unique tumor tissues, for example, active cells, edema and necrotic center from ordinary mind tissues of WM, GM, and CSF. However, manual segmentation in magnetic resonance data is a timeconsuming task. We present a method of automatic tumor segmentation in magnetic resonance images which consists of several steps. The recommended framework is helped by image processing based technique that gives improved precision rate of the cerebrum tumor location along with the computation of tumor measure. In this paper, the location of brain tumor from MRI is recognized utilizing adaptive thresholding with a level set and a morphological procedure with histogram. Automatic brain tumor stage is performed by using ensemble classification. Such phase classifies brain images into tumor and non-tumors using Feed Forwarded Artificial neural network based classifier. For test investigation, continuous MRI images gathered from 200 people are utilized. The rate of fruitful discovery through the proposed procedure is 97.32 percentage accurate.\"\n",
    "\n",
    "\n",
    "# article_name = \"Introduction to the Special Issue on Role of Scalable Computing and Data Analytics in Evolution of Internet of Things\"\n",
    "# abstract = \"\"\"The evolution of Internet of Things has given way to a Smart World where there is an improved integration of devices, systems and processes in humans through all pervasive connectivity. Anytime, anywhere connection and transaction is the motto of the Internet of things which brings comfort to the users and sweeps the problem of physical boundary out of the way. Once it has come into the purview of developers, new areas have been identified and new applications have been introduced. Small wearables which can track your health to big automated vehicles which can move from one place to another self navigating without human intervention are the order of the day. This has also brought into existence a new technology called cloud, since with IoT comes a large number of devices connected to the internet continuously pumping data into the cloud for storage and processing. Another area benefited from the evolution of IoT is the wireless and wired connectivity through a wide range of connectivity standards.\n",
    "# As with any technology, it has also created a lot of concerns regarding the security, privacy and ethics.\n",
    "# Data protection issues created by new technologies are a threat which has been recognized by developers, public and also the governing body long back. The complexity of the system arises because of the various sensors and technologies which clearly tell the pattern of the activities of the individual as well an organization making us threat prone. Moreover, the volume of the data in the cloud makes it too difficult to recognize the privacy requirement of the data or to segregate open data from private data. Data analytics is another technology which supposedly increases the opportunity of increasing business by studying this private data collected from IoT and exploring ways to monetize them. It also helps the individual by recognizing their priorities and narrowing their search. But the data collected are real world data and aggregation of this data in the cloud is an open invitation to the hackers to study about the behaviors of the individuals.\n",
    "# The special issues of Scalable Computing has attract related to the Role of Scalable Computing and Data Analytics in Evolution of Internet of Things has attracted 28 submissions from which were selected 12.\"\"\"\n",
    "\n",
    "\n",
    "# article_name = \"An Ensemble Integrated Security System with Cross Breed Algorithm\"\n",
    "# abstract = \"\"\"Blockchain and IoT are two technologies are most widely popular in present scenario, but technologies are more complicated. The blockchain used to transforms storage and data analysis. In recent years, the blockchain is at the heart of computer technologies. It is a cryptographically secure distributed database technology for storing and transmitting information. Various attacks are done in many networks. Many research articles discussed about the security issues over the IoT based secure using block chain technology. In this paper, an Ensemble Integrated Security System (EISS) is introduced to improve the security for the heterogeneous network which consists of normal and abnormal nodes which is processed with the block chain, IoT. Results\n",
    "# show the performance of the OUATH-2 and EISS algorithm.\"\"\"\n",
    "\n",
    "article_name = \"Background Modelling using a Q-Tree Based Foreground Segmentation\"\n",
    "abstract = \"\"\"Background modelling is an empirical part in the procedure of foreground mining of idle and moving objects. The foreground object detection has become a challenging phenomenon due to intermittent objects, intensity variation, image artefact and dynamic background in the video analysis and video surveillance applications. In the video surveillances application, a large amount of data is getting processed by everyday basis. Thus it needs an efficient background modelling technique which could process those larger sets of data which promotes effective foreground detection. In this paper, we presented a renewed background modelling method for foreground segmentation. The main objective of the work is to perform the foreground extraction only in\n",
    "the intended region of interest using proposed Q-Tree algorithm. At most all the present techniques consider their updates to the pixels of the entire frame which may result in inefficient foreground detection with a quick update to slow moving objects. The proposed method contract these defect by extracting the foreground object by controlling the region of interest (the region only where the background subtraction is to be performed) and thereby reducing the false positive and false negative. The extensive experimental results and the evaluation parameters of the proposed approach with the state of art method were compared against the most recent background subtraction approaches. Moreover, we use challenge change detection dataset and the efficiency of our method is analyzed in different environmental conditions (indoor, outdoor) from the CDnet2014 dataset and additional real time videos. The experimental results were satisfactorily verified the strengths and weakness of proposed method against the existing state-of-the-art background modelling methods.\"\"\""
   ]
  },
  {
   "cell_type": "code",
   "execution_count": 99,
   "metadata": {},
   "outputs": [
    {
     "name": "stdout",
     "output_type": "stream",
     "text": [
      "Connected\n"
     ]
    },
    {
     "data": {
      "text/plain": [
       "[['Foreground-background'],\n",
       " ['Minimum spanning tree-based segmentation'],\n",
       " ['Tree based'],\n",
       " ['(a,b)-tree'],\n",
       " ['Foreground detection'],\n",
       " ['Graph based segmentation'],\n",
       " ['Model based segmentation'],\n",
       " ['Tree based regression'],\n",
       " ['Q band'],\n",
       " ['Q-Warrior']]"
      ]
     },
     "execution_count": 99,
     "metadata": {},
     "output_type": "execute_result"
    }
   ],
   "source": [
    "# compare with only title\n",
    "\n",
    "query = {\n",
    "  \"query\": {\n",
    "    \"multi_match\" : {\n",
    "      \"query\":    article_name, \n",
    "      \"fields\" : [\"label^3\", \"related\", \"broader\"]\n",
    "    }\n",
    "  }\n",
    "}\n",
    "\n",
    "printResults(query, 10)"
   ]
  },
  {
   "cell_type": "code",
   "execution_count": 101,
   "metadata": {},
   "outputs": [
    {
     "name": "stdout",
     "output_type": "stream",
     "text": [
      "Connected\n"
     ]
    },
    {
     "data": {
      "text/plain": [
       "[['Programming in the large and programming in the small'],\n",
       " ['The Intersect'],\n",
       " ['The Internet'],\n",
       " ['The Blob'],\n",
       " ['The Vanguard Method'],\n",
       " ['Law of the instrument'],\n",
       " ['Wisdom of the crowd'],\n",
       " ['March of the Machines'],\n",
       " ['Outline of the Internet'],\n",
       " ['Confusion of the inverse']]"
      ]
     },
     "execution_count": 101,
     "metadata": {},
     "output_type": "execute_result"
    }
   ],
   "source": [
    "query = {\n",
    "  \"query\": {\n",
    "    \"dis_max\": {\n",
    "      \"queries\": [\n",
    "        {\n",
    "          \"multi_match\" : {\n",
    "          \"query\":    article_name, \n",
    "          \"fields\" : [\"label^3\", \"related\", \"broader\"]\n",
    "    }\n",
    "        },\n",
    "        {\n",
    "          \"multi_match\" : {\n",
    "          \"query\":    abstract, \n",
    "          \"fields\" : [\"label^2\", \"related\", \"broader^2\"]\n",
    "          }\n",
    "        }\n",
    "      ]\n",
    "    }\n",
    "  }\n",
    "}\n",
    "\n",
    "printResults(query, 10)"
   ]
  },
  {
   "cell_type": "code",
   "execution_count": 102,
   "metadata": {},
   "outputs": [
    {
     "name": "stdout",
     "output_type": "stream",
     "text": [
      "Connected\n"
     ]
    },
    {
     "data": {
      "text/plain": [
       "[['Confusion of the inverse'],\n",
       " ['Suicide and the Internet'],\n",
       " ['Abundances of the elements'],\n",
       " ['Programming in the large and programming in the small'],\n",
       " ['Sociology of the Internet'],\n",
       " ['The Internet'],\n",
       " ['Outline of the Internet'],\n",
       " ['The Intersect'],\n",
       " ['The Blob'],\n",
       " ['The Vanguard Method']]"
      ]
     },
     "execution_count": 102,
     "metadata": {},
     "output_type": "execute_result"
    }
   ],
   "source": [
    "query = {\n",
    "  \"query\": {\n",
    "    \"dis_max\": {\n",
    "      \"queries\": [\n",
    "        {\n",
    "          \"multi_match\" : {\n",
    "          \"query\":      article_name,\n",
    "          \"type\":       \"best_fields\",\n",
    "          \"fields\":     [\"label^3\", \"related\", \"broader\"],\n",
    "          \"tie_breaker\": 0.3\n",
    "         }\n",
    "        },\n",
    "        {\n",
    "          \"multi_match\" : {\n",
    "          \"query\":      abstract,\n",
    "          \"type\":       \"best_fields\",\n",
    "          \"fields\":     [\"label^3\", \"related\", \"broader\"],\n",
    "          \"tie_breaker\": 0.3\n",
    "         }\n",
    "        }\n",
    "      ]\n",
    "    }\n",
    "  }\n",
    "}\n",
    "\n",
    "printResults(query, 10)"
   ]
  },
  {
   "cell_type": "code",
   "execution_count": 103,
   "metadata": {},
   "outputs": [
    {
     "name": "stdout",
     "output_type": "stream",
     "text": [
      "Connected\n"
     ]
    },
    {
     "data": {
      "text/plain": [
       "[['Suicide and the Internet'],\n",
       " ['Confusion of the inverse'],\n",
       " ['Abundances of the elements'],\n",
       " ['The Victorian Internet'],\n",
       " ['Sociology of the Internet'],\n",
       " ['Programming in the large and programming in the small'],\n",
       " ['Outline of the Internet'],\n",
       " ['Model in the loop'],\n",
       " ['Software in the loop'],\n",
       " ['The Internet']]"
      ]
     },
     "execution_count": 103,
     "metadata": {},
     "output_type": "execute_result"
    }
   ],
   "source": [
    "query = {\n",
    "  \"query\": {\n",
    "    \"dis_max\": {\n",
    "      \"queries\": [\n",
    "        {\n",
    "          \"multi_match\" : {\n",
    "          \"query\":      article_name,\n",
    "          \"type\":       \"most_fields\",\n",
    "          \"fields\":     [\"label^3\", \"related\", \"broader\"],\n",
    "          \"tie_breaker\": 0.5\n",
    "         }\n",
    "        },\n",
    "        {\n",
    "          \"multi_match\" : {\n",
    "          \"query\":      abstract,\n",
    "          \"type\":       \"most_fields\",\n",
    "          \"fields\":     [\"label^3\", \"related\", \"broader\"],\n",
    "          \"tie_breaker\": 0.5\n",
    "         }\n",
    "        }\n",
    "      ]\n",
    "    }\n",
    "  }\n",
    "}\n",
    "\n",
    "printResults(query, 10)"
   ]
  },
  {
   "cell_type": "code",
   "execution_count": null,
   "metadata": {},
   "outputs": [],
   "source": []
  }
 ],
 "metadata": {
  "kernelspec": {
   "display_name": "sdp_env",
   "language": "python",
   "name": "python3"
  },
  "language_info": {
   "codemirror_mode": {
    "name": "ipython",
    "version": 3
   },
   "file_extension": ".py",
   "mimetype": "text/x-python",
   "name": "python",
   "nbconvert_exporter": "python",
   "pygments_lexer": "ipython3",
   "version": "3.10.8"
  },
  "orig_nbformat": 4,
  "vscode": {
   "interpreter": {
    "hash": "cb909539cb839e11f775ecf6d9728e5f3e2dc70caaa179a79ead8efd4e3c2239"
   }
  }
 },
 "nbformat": 4,
 "nbformat_minor": 2
}
