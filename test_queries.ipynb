{
 "cells": [
  {
   "cell_type": "code",
   "execution_count": 1,
   "metadata": {},
   "outputs": [],
   "source": [
    "from config import IDX_NAME\n",
    "from source.env_setup.setup import connect_elasticsearch"
   ]
  },
  {
   "attachments": {},
   "cell_type": "markdown",
   "metadata": {},
   "source": [
    "View a structure of the index"
   ]
  },
  {
   "cell_type": "code",
   "execution_count": 2,
   "metadata": {},
   "outputs": [
    {
     "name": "stdout",
     "output_type": "stream",
     "text": [
      "Yay Connected\n"
     ]
    }
   ],
   "source": [
    "with connect_elasticsearch() as es:\n",
    "    mappings = es.indices.get_mapping(index=IDX_NAME)"
   ]
  },
  {
   "cell_type": "code",
   "execution_count": 3,
   "metadata": {},
   "outputs": [
    {
     "name": "stdout",
     "output_type": "stream",
     "text": [
      "{\n",
      "    \"ontology_index\": {\n",
      "        \"mappings\": {\n",
      "            \"properties\": {\n",
      "                \"broader\": {\n",
      "                    \"type\": \"text\"\n",
      "                },\n",
      "                \"closeMatch\": {\n",
      "                    \"type\": \"text\"\n",
      "                },\n",
      "                \"name\": {\n",
      "                    \"type\": \"text\"\n",
      "                },\n",
      "                \"prefLabel\": {\n",
      "                    \"type\": \"text\"\n",
      "                },\n",
      "                \"related\": {\n",
      "                    \"type\": \"text\"\n",
      "                },\n",
      "                \"type\": {\n",
      "                    \"type\": \"text\"\n",
      "                }\n",
      "            }\n",
      "        }\n",
      "    }\n",
      "}\n"
     ]
    }
   ],
   "source": [
    "import json\n",
    "print(json.dumps(mappings, sort_keys=True, indent=4))"
   ]
  },
  {
   "attachments": {},
   "cell_type": "markdown",
   "metadata": {},
   "source": [
    "# Testing queries"
   ]
  },
  {
   "attachments": {},
   "cell_type": "markdown",
   "metadata": {},
   "source": [
    "source: https://www.elastic.co/guide/en/elasticsearch/reference/current/query-dsl-multi-match-query.html"
   ]
  },
  {
   "cell_type": "code",
   "execution_count": 4,
   "metadata": {},
   "outputs": [],
   "source": [
    "from source.es_index.query_index import find_n_best"
   ]
  },
  {
   "cell_type": "code",
   "execution_count": 5,
   "metadata": {},
   "outputs": [],
   "source": [
    "article_name = \"Big Data Analytics for Advanced Viticulture\""
   ]
  },
  {
   "cell_type": "code",
   "execution_count": 6,
   "metadata": {},
   "outputs": [
    {
     "name": "stdout",
     "output_type": "stream",
     "text": [
      "Yay Connected\n",
      "[['Big data'], ['Data mining big data'], ['Big data data analysis'], ['Big data management'], ['Big data architecture'], ['Big data processing'], ['Big spatial data'], ['Geospatial big data'], ['Multimedia big data'], ['Big data security']]\n"
     ]
    }
   ],
   "source": [
    "query = {'query': {\n",
    "    \"match\": {\"prefLabel\" : article_name}\n",
    "    }\n",
    "}\n",
    "\n",
    "with connect_elasticsearch() as es:\n",
    "    res = find_n_best(es, IDX_NAME, query, n=10, label_colname='prefLabel')\n",
    "\n",
    "print(res)"
   ]
  },
  {
   "cell_type": "code",
   "execution_count": 7,
   "metadata": {},
   "outputs": [
    {
     "name": "stdout",
     "output_type": "stream",
     "text": [
      "Yay Connected\n",
      "[['Small data'], ['Business analytics'], ['Prescriptive analytics'], ['Data analysis'], ['Behavioral analytics'], ['Data science'], ['Analytics'], ['Competitive intelligence'], ['Data discovery'], ['Data visualization']]\n"
     ]
    }
   ],
   "source": [
    "query = {'query': {\n",
    "    \"more_like_this\": {\"fields\" : [\"prefLabel\", \"related\", \"broader\"],\n",
    "                       \"like\" : article_name,\n",
    "                       \"min_term_freq\" : 1,\n",
    "                       \"max_query_terms\" : 12}\n",
    "    }\n",
    "}\n",
    "\n",
    "with connect_elasticsearch() as es:\n",
    "    res = find_n_best(es, IDX_NAME, query, n=10, label_colname='prefLabel')\n",
    "\n",
    "print(res)"
   ]
  },
  {
   "cell_type": "code",
   "execution_count": 8,
   "metadata": {},
   "outputs": [
    {
     "name": "stdout",
     "output_type": "stream",
     "text": [
      "Yay Connected\n",
      "[['Urban analytics'], ['Healthcare analytics'], ['Real time analytics'], ['Small data'], ['Prescriptive analytics'], ['Business analytics'], ['Data analysis'], ['Behavioral analytics'], ['Data science'], ['Analytics']]\n"
     ]
    }
   ],
   "source": [
    "query = {\n",
    "  \"query\": {\n",
    "    \"multi_match\" : {\n",
    "      \"query\":    article_name, \n",
    "      \"fields\" : [\"prefLabel\", \"related\", \"broader\"]\n",
    "    }\n",
    "  }\n",
    "}\n",
    "\n",
    "with connect_elasticsearch() as es:\n",
    "    res = find_n_best(es, IDX_NAME, query, n=10, label_colname='prefLabel')\n",
    "\n",
    "print(res)\n",
    "\n",
    "# najlepszy wynik ma  'broader': ['Big data', 'Analytics']"
   ]
  },
  {
   "cell_type": "code",
   "execution_count": 9,
   "metadata": {},
   "outputs": [
    {
     "name": "stdout",
     "output_type": "stream",
     "text": [
      "Yay Connected\n",
      "[['Urban analytics'], ['Healthcare analytics'], ['Real time analytics'], ['Small data'], ['Prescriptive analytics'], ['Business analytics'], ['Data analysis'], ['Behavioral analytics'], ['Data science'], ['Analytics']]\n"
     ]
    }
   ],
   "source": [
    "body = {\n",
    "  \"query\": {\n",
    "    \"multi_match\" : {\n",
    "      \"query\":    article_name, \n",
    "      \"fields\" : [\"prefLabel^3\", \"related\", \"broader\"]\n",
    "    }\n",
    "  }\n",
    "}\n",
    "\n",
    "with connect_elasticsearch() as es:\n",
    "    res = find_n_best(es, IDX_NAME, query, n=10, label_colname='prefLabel')\n",
    "\n",
    "print(res)"
   ]
  },
  {
   "cell_type": "code",
   "execution_count": 10,
   "metadata": {},
   "outputs": [
    {
     "name": "stdout",
     "output_type": "stream",
     "text": [
      "Yay Connected\n",
      "[['Big data'], ['Big data data analysis'], ['Big data architecture'], ['Multimedia big data'], ['Big data mining'], ['Data mining big data'], ['Big data management'], ['Big data processing'], ['Big spatial data'], ['Geospatial big data']]\n"
     ]
    }
   ],
   "source": [
    "query = {\n",
    "  \"query\": {\n",
    "    \"multi_match\" : {\n",
    "      \"query\":      article_name,\n",
    "      \"type\":       \"best_fields\",\n",
    "      \"fields\":     [\"prefLabel^3\", \"related\", \"broader\"],\n",
    "      \"tie_breaker\": 0.3\n",
    "    }\n",
    "  }\n",
    "}\n",
    "\n",
    "with connect_elasticsearch() as es:\n",
    "    res = find_n_best(es, IDX_NAME, query, n=10, label_colname='prefLabel')\n",
    "\n",
    "print(res)"
   ]
  },
  {
   "cell_type": "code",
   "execution_count": 12,
   "metadata": {},
   "outputs": [
    {
     "name": "stdout",
     "output_type": "stream",
     "text": [
      "Yay Connected\n",
      "[['Prescriptive analytics'], ['Big data'], ['Analytics'], ['Social analytics'], ['Learning analytics'], ['Big data data analysis'], ['Cultural analytics'], ['Big data architecture'], ['Multimedia big data'], ['Big data mining']]\n"
     ]
    }
   ],
   "source": [
    "query = {\n",
    "  \"query\": {\n",
    "    \"multi_match\" : {\n",
    "      \"query\":      article_name,\n",
    "      \"type\":       \"most_fields\",\n",
    "      \"fields\":     [\"prefLabel^3\", \"related\", \"broader\"]\n",
    "    }\n",
    "  }\n",
    "}\n",
    "\n",
    "with connect_elasticsearch() as es:\n",
    "    res = find_n_best(es, IDX_NAME, query, n=10, label_colname='prefLabel')\n",
    "\n",
    "print(res)"
   ]
  },
  {
   "cell_type": "code",
   "execution_count": 13,
   "metadata": {},
   "outputs": [
    {
     "name": "stdout",
     "output_type": "stream",
     "text": [
      "Yay Connected\n",
      "[['Prescriptive analytics'], ['Big data data analysis'], ['Big data'], ['Urban analytics'], ['Healthcare analytics'], ['Big data architecture'], ['Multimedia big data'], ['Big data mining'], ['Social analytics'], ['Social data analytics']]\n"
     ]
    }
   ],
   "source": [
    "query = {\n",
    "  \"query\": {\n",
    "    \"multi_match\" : {\n",
    "      \"query\":      article_name,\n",
    "      \"type\":       \"bool_prefix\",\n",
    "      \"fields\":     [\"prefLabel^4\", \"related\", \"broader^2\"]\n",
    "    }\n",
    "  }\n",
    "}\n",
    "\n",
    "with connect_elasticsearch() as es:\n",
    "    res = find_n_best(es, IDX_NAME, query, n=10, label_colname='prefLabel')\n",
    "\n",
    "print(res)"
   ]
  },
  {
   "attachments": {},
   "cell_type": "markdown",
   "metadata": {},
   "source": [
    "## Searching using also an abstract"
   ]
  },
  {
   "cell_type": "code",
   "execution_count": 14,
   "metadata": {},
   "outputs": [],
   "source": [
    "#article_name = \"Brain Tumor Detection from MRI using Adaptive Thresholding and Histogram based Techniques\"\n",
    "#abstract = \"This paper depicts a computerized framework that can distinguish brain tumor and investigate the diverse highlights of the tumor. Brain tumor segmentation means to isolated the unique tumor tissues, for example, active cells, edema and necrotic center from ordinary mind tissues of WM, GM, and CSF. However, manual segmentation in magnetic resonance data is a timeconsuming task. We present a method of automatic tumor segmentation in magnetic resonance images which consists of several steps. The recommended framework is helped by image processing based technique that gives improved precision rate of the cerebrum tumor location along with the computation of tumor measure. In this paper, the location of brain tumor from MRI is recognized utilizing adaptive thresholding with a level set and a morphological procedure with histogram. Automatic brain tumor stage is performed by using ensemble classification. Such phase classifies brain images into tumor and non-tumors using Feed Forwarded Artificial neural network based classifier. For test investigation, continuous MRI images gathered from 200 people are utilized. The rate of fruitful discovery through the proposed procedure is 97.32 percentage accurate.\"\n",
    "\n",
    "\n",
    "# article_name = \"Introduction to the Special Issue on Role of Scalable Computing and Data Analytics in Evolution of Internet of Things\"\n",
    "# abstract = \"\"\"The evolution of Internet of Things has given way to a Smart World where there is an improved integration of devices, systems and processes in humans through all pervasive connectivity. Anytime, anywhere connection and transaction is the motto of the Internet of things which brings comfort to the users and sweeps the problem of physical boundary out of the way. Once it has come into the purview of developers, new areas have been identified and new applications have been introduced. Small wearables which can track your health to big automated vehicles which can move from one place to another self navigating without human intervention are the order of the day. This has also brought into existence a new technology called cloud, since with IoT comes a large number of devices connected to the internet continuously pumping data into the cloud for storage and processing. Another area benefited from the evolution of IoT is the wireless and wired connectivity through a wide range of connectivity standards.\n",
    "# As with any technology, it has also created a lot of concerns regarding the security, privacy and ethics.\n",
    "# Data protection issues created by new technologies are a threat which has been recognized by developers, public and also the governing body long back. The complexity of the system arises because of the various sensors and technologies which clearly tell the pattern of the activities of the individual as well an organization making us threat prone. Moreover, the volume of the data in the cloud makes it too difficult to recognize the privacy requirement of the data or to segregate open data from private data. Data analytics is another technology which supposedly increases the opportunity of increasing business by studying this private data collected from IoT and exploring ways to monetize them. It also helps the individual by recognizing their priorities and narrowing their search. But the data collected are real world data and aggregation of this data in the cloud is an open invitation to the hackers to study about the behaviors of the individuals.\n",
    "# The special issues of Scalable Computing has attract related to the Role of Scalable Computing and Data Analytics in Evolution of Internet of Things has attracted 28 submissions from which were selected 12.\"\"\"\n",
    "\n",
    "\n",
    "# article_name = \"An Ensemble Integrated Security System with Cross Breed Algorithm\"\n",
    "# abstract = \"\"\"Blockchain and IoT are two technologies are most widely popular in present scenario, but technologies are more complicated. The blockchain used to transforms storage and data analysis. In recent years, the blockchain is at the heart of computer technologies. It is a cryptographically secure distributed database technology for storing and transmitting information. Various attacks are done in many networks. Many research articles discussed about the security issues over the IoT based secure using block chain technology. In this paper, an Ensemble Integrated Security System (EISS) is introduced to improve the security for the heterogeneous network which consists of normal and abnormal nodes which is processed with the block chain, IoT. Results\n",
    "# show the performance of the OUATH-2 and EISS algorithm.\"\"\"\n",
    "\n",
    "article_name = \"Background Modelling using a Q-Tree Based Foreground Segmentation\"\n",
    "abstract = \"\"\"Background modelling is an empirical part in the procedure of foreground mining of idle and moving objects. The foreground object detection has become a challenging phenomenon due to intermittent objects, intensity variation, image artefact and dynamic background in the video analysis and video surveillance applications. In the video surveillances application, a large amount of data is getting processed by everyday basis. Thus it needs an efficient background modelling technique which could process those larger sets of data which promotes effective foreground detection. In this paper, we presented a renewed background modelling method for foreground segmentation. The main objective of the work is to perform the foreground extraction only in\n",
    "the intended region of interest using proposed Q-Tree algorithm. At most all the present techniques consider their updates to the pixels of the entire frame which may result in inefficient foreground detection with a quick update to slow moving objects. The proposed method contract these defect by extracting the foreground object by controlling the region of interest (the region only where the background subtraction is to be performed) and thereby reducing the false positive and false negative. The extensive experimental results and the evaluation parameters of the proposed approach with the state of art method were compared against the most recent background subtraction approaches. Moreover, we use challenge change detection dataset and the efficiency of our method is analyzed in different environmental conditions (indoor, outdoor) from the CDnet2014 dataset and additional real time videos. The experimental results were satisfactorily verified the strengths and weakness of proposed method against the existing state-of-the-art background modelling methods.\"\"\""
   ]
  },
  {
   "cell_type": "code",
   "execution_count": 15,
   "metadata": {},
   "outputs": [
    {
     "name": "stdout",
     "output_type": "stream",
     "text": [
      "Yay Connected\n",
      "[['Foreground-background'], ['Minimum spanning tree-based segmentation'], ['Tree based'], ['(a,b)-tree'], ['Foreground detection'], ['Graph based segmentation'], ['Model based segmentation'], ['Tree based regression'], ['Q band'], ['Q-Warrior']]\n"
     ]
    }
   ],
   "source": [
    "# compare with only title\n",
    "\n",
    "query = {\n",
    "  \"query\": {\n",
    "    \"multi_match\" : {\n",
    "      \"query\":    article_name, \n",
    "      \"fields\" : [\"prefLabel^3\", \"related\", \"broader\"]\n",
    "    }\n",
    "  }\n",
    "}\n",
    "\n",
    "with connect_elasticsearch() as es:\n",
    "    res = find_n_best(es, IDX_NAME, query, n=10, label_colname='prefLabel')\n",
    "\n",
    "print(res)"
   ]
  },
  {
   "cell_type": "code",
   "execution_count": 16,
   "metadata": {},
   "outputs": [
    {
     "name": "stdout",
     "output_type": "stream",
     "text": [
      "Yay Connected\n",
      "[['Programming in the large and programming in the small'], ['The Blob'], ['The Intersect'], ['The Internet'], ['The Vanguard Method'], ['Tip of the day'], ['Law of the instrument'], ['Wisdom of the crowd'], ['March of the Machines'], ['Outline of the Internet']]\n"
     ]
    }
   ],
   "source": [
    "query = {\n",
    "  \"query\": {\n",
    "    \"dis_max\": {\n",
    "      \"queries\": [\n",
    "        {\n",
    "          \"multi_match\" : {\n",
    "          \"query\":    article_name, \n",
    "          \"fields\" : [\"prefLabel^3\", \"related\", \"broader\"]\n",
    "    }\n",
    "        },\n",
    "        {\n",
    "          \"multi_match\" : {\n",
    "          \"query\":    abstract, \n",
    "          \"fields\" : [\"prefLabel^2\", \"related\", \"broader^2\"]\n",
    "          }\n",
    "        }\n",
    "      ]\n",
    "    }\n",
    "  }\n",
    "}\n",
    "\n",
    "with connect_elasticsearch() as es:\n",
    "    res = find_n_best(es, IDX_NAME, query, n=10, label_colname='prefLabel')\n",
    "\n",
    "print(res)"
   ]
  },
  {
   "cell_type": "code",
   "execution_count": 17,
   "metadata": {},
   "outputs": [
    {
     "name": "stdout",
     "output_type": "stream",
     "text": [
      "Yay Connected\n",
      "[['Confusion of the inverse'], ['Suicide and the Internet'], ['Abundances of the elements'], ['Programming in the large and programming in the small'], ['Sociology of the Internet'], ['The Internet'], ['Outline of the Internet'], ['The Blob'], ['The Intersect'], ['The Vanguard Method']]\n"
     ]
    }
   ],
   "source": [
    "query = {\n",
    "  \"query\": {\n",
    "    \"dis_max\": {\n",
    "      \"queries\": [\n",
    "        {\n",
    "          \"multi_match\" : {\n",
    "          \"query\":      article_name,\n",
    "          \"type\":       \"best_fields\",\n",
    "          \"fields\":     [\"prefLabel^3\", \"related\", \"broader\"],\n",
    "          \"tie_breaker\": 0.3\n",
    "         }\n",
    "        },\n",
    "        {\n",
    "          \"multi_match\" : {\n",
    "          \"query\":      abstract,\n",
    "          \"type\":       \"best_fields\",\n",
    "          \"fields\":     [\"prefLabel^3\", \"related\", \"broader\"],\n",
    "          \"tie_breaker\": 0.3\n",
    "         }\n",
    "        }\n",
    "      ]\n",
    "    }\n",
    "  }\n",
    "}\n",
    "\n",
    "with connect_elasticsearch() as es:\n",
    "    res = find_n_best(es, IDX_NAME, query, n=10, label_colname='prefLabel')\n",
    "\n",
    "print(res)"
   ]
  },
  {
   "cell_type": "code",
   "execution_count": 18,
   "metadata": {},
   "outputs": [
    {
     "name": "stdout",
     "output_type": "stream",
     "text": [
      "Yay Connected\n",
      "[['Suicide and the Internet'], ['Confusion of the inverse'], ['Abundances of the elements'], ['The Victorian Internet'], ['Sociology of the Internet'], ['Programming in the large and programming in the small'], ['Outline of the Internet'], ['Model in the loop'], ['Software in the loop'], ['The Internet']]\n"
     ]
    }
   ],
   "source": [
    "query = {\n",
    "  \"query\": {\n",
    "    \"dis_max\": {\n",
    "      \"queries\": [\n",
    "        {\n",
    "          \"multi_match\" : {\n",
    "          \"query\":      article_name,\n",
    "          \"type\":       \"most_fields\",\n",
    "          \"fields\":     [\"prefLabel^3\", \"related\", \"broader\"],\n",
    "          \"tie_breaker\": 0.5\n",
    "         }\n",
    "        },\n",
    "        {\n",
    "          \"multi_match\" : {\n",
    "          \"query\":      abstract,\n",
    "          \"type\":       \"most_fields\",\n",
    "          \"fields\":     [\"prefLabel^3\", \"related\", \"broader\"],\n",
    "          \"tie_breaker\": 0.5\n",
    "         }\n",
    "        }\n",
    "      ]\n",
    "    }\n",
    "  }\n",
    "}\n",
    "\n",
    "with connect_elasticsearch() as es:\n",
    "    res = find_n_best(es, IDX_NAME, query, n=10, label_colname='prefLabel')\n",
    "\n",
    "print(res)"
   ]
  },
  {
   "cell_type": "code",
   "execution_count": null,
   "metadata": {},
   "outputs": [],
   "source": []
  }
 ],
 "metadata": {
  "kernelspec": {
   "display_name": "opencs_paperclassification",
   "language": "python",
   "name": "python3"
  },
  "language_info": {
   "codemirror_mode": {
    "name": "ipython",
    "version": 3
   },
   "file_extension": ".py",
   "mimetype": "text/x-python",
   "name": "python",
   "nbconvert_exporter": "python",
   "pygments_lexer": "ipython3",
   "version": "3.10.8"
  },
  "orig_nbformat": 4,
  "vscode": {
   "interpreter": {
    "hash": "e19e9f2b36856563ab2bd45ec684e0202f5df76d9a6b6b3b9ea70b7e0077d416"
   }
  }
 },
 "nbformat": 4,
 "nbformat_minor": 2
}
