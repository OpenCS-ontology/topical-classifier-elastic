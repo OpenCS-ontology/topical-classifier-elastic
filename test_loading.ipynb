{
 "cells": [
  {
   "cell_type": "code",
   "execution_count": 2,
   "metadata": {},
   "outputs": [],
   "source": [
    "from source.ontology_parsing.data_loading import get_all_concept_file_paths, get_graphs_from_files\n",
    "from config import ONTOLOGY_CORE_DIR"
   ]
  },
  {
   "cell_type": "code",
   "execution_count": 3,
   "metadata": {},
   "outputs": [],
   "source": [
    "# reading ontology\n",
    "files = get_all_concept_file_paths(ONTOLOGY_CORE_DIR)\n",
    "graphs = get_graphs_from_files(files)\n"
   ]
  },
  {
   "cell_type": "code",
   "execution_count": 4,
   "metadata": {},
   "outputs": [],
   "source": [
    "# To be defined in config - index column names and their uris\n",
    "pred_uri_to_idx_colname = {\n",
    "    'http://www.w3.org/2004/02/skos/core#prefLabel': 'label',\n",
    "    'http://www.w3.org/2004/02/skos/core#closeMatch': 'closeMatch',\n",
    "    'http://www.w3.org/2004/02/skos/core#related': 'related',\n",
    "    'http://www.w3.org/2004/02/skos/core#broader': 'broader'\n",
    "}"
   ]
  },
  {
   "cell_type": "code",
   "execution_count": 5,
   "metadata": {},
   "outputs": [
    {
     "data": {
      "text/plain": [
       "{rdflib.term.URIRef('http://www.w3.org/2004/02/skos/core#broader'): 'broader',\n",
       " rdflib.term.URIRef('http://www.w3.org/2004/02/skos/core#prefLabel'): 'prefLabel',\n",
       " rdflib.term.URIRef('http://www.w3.org/2004/02/skos/core#related'): 'related',\n",
       " rdflib.term.URIRef('http://www.w3.org/2004/02/skos/core#closeMatch'): 'closeMatch',\n",
       " rdflib.term.URIRef('http://www.w3.org/1999/02/22-rdf-syntax-ns#type'): 'type'}"
      ]
     },
     "execution_count": 5,
     "metadata": {},
     "output_type": "execute_result"
    }
   ],
   "source": [
    "from source.ontology_parsing.graph_utils import get_uri_to_colname_dict_from_ontology\n",
    "\n",
    "# or derived from the ontology automatically\n",
    "pred_uri_to_idx_colname = get_uri_to_colname_dict_from_ontology(graphs)\n",
    "pred_uri_to_idx_colname"
   ]
  },
  {
   "cell_type": "code",
   "execution_count": 6,
   "metadata": {},
   "outputs": [],
   "source": [
    "from source.ed_index.IndexBaseline import IndexBaseline\n",
    "\n",
    "index_builder = IndexBaseline(pred_uri_to_idx_colname, graphs, include_concept_type=True)"
   ]
  },
  {
   "cell_type": "code",
   "execution_count": 8,
   "metadata": {},
   "outputs": [],
   "source": [
    "from source.ed_index.create_index import build_index"
   ]
  },
  {
   "cell_type": "code",
   "execution_count": null,
   "metadata": {},
   "outputs": [],
   "source": [
    "# assumes that elastic search is responding at localhost:9200\n",
    "build_index(index_builder, es_config={'host': 'localhost', 'port': 9200}, idx_name='ontology')"
   ]
  },
  {
   "cell_type": "code",
   "execution_count": null,
   "metadata": {},
   "outputs": [],
   "source": []
  }
 ],
 "metadata": {
  "kernelspec": {
   "display_name": "opencs_paperclassification",
   "language": "python",
   "name": "python3"
  },
  "language_info": {
   "codemirror_mode": {
    "name": "ipython",
    "version": 3
   },
   "file_extension": ".py",
   "mimetype": "text/x-python",
   "name": "python",
   "nbconvert_exporter": "python",
   "pygments_lexer": "ipython3",
   "version": "3.10.8"
  },
  "orig_nbformat": 4,
  "vscode": {
   "interpreter": {
    "hash": "e19e9f2b36856563ab2bd45ec684e0202f5df76d9a6b6b3b9ea70b7e0077d416"
   }
  }
 },
 "nbformat": 4,
 "nbformat_minor": 2
}
