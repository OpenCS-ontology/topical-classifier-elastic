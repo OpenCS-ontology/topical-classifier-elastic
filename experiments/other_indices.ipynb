{
 "cells": [
  {
   "cell_type": "code",
   "execution_count": 5,
   "metadata": {},
   "outputs": [],
   "source": [
    "import json\n",
    "import time\n",
    "\n",
    "from elasticsearch import Elasticsearch\n",
    "from elasticsearch.helpers import bulk\n",
    "\n",
    "# Use tensorflow 1 behavior to match the Universal Sentence Encoder\n",
    "# examples (https://tfhub.dev/google/universal-sentence-encoder/2).\n",
    "import tensorflow.compat.v1 as tf\n",
    "import tensorflow_hub as hub"
   ]
  },
  {
   "cell_type": "code",
   "execution_count": 1,
   "metadata": {},
   "outputs": [],
   "source": [
    "from source.ontology_parsing.data_loading import get_all_concept_file_paths, get_graphs_from_files\n",
    "from config import ONTOLOGY_CORE_DIR\n",
    "\n",
    "# reading ontology\n",
    "files = get_all_concept_file_paths(ONTOLOGY_CORE_DIR)\n",
    "graphs = get_graphs_from_files(files)\n",
    "\n",
    "# To be defined in config - index column names and their uris\n",
    "pred_uri_to_idx_colname = {\n",
    "    'http://www.w3.org/2004/02/skos/core#prefLabel': 'label',\n",
    "    'http://www.w3.org/2004/02/skos/core#closeMatch': 'closeMatch',\n",
    "    'http://www.w3.org/2004/02/skos/core#related': 'related',\n",
    "    'http://www.w3.org/2004/02/skos/core#broader': 'broader'\n",
    "}\n",
    "pred_uri_to_idx_colname\n",
    "\n",
    "\n",
    "from source.ontology_parsing.graph_utils import get_uri_to_colname_dict_from_ontology\n",
    "\n",
    "# or derived from the ontology automatically\n",
    "pred_uri_to_idx_colname = get_uri_to_colname_dict_from_ontology(graphs)\n",
    "pred_uri_to_idx_colname\n",
    "\n",
    "from source.es_index.IndexBaseline import IndexBaseline\n",
    "\n",
    "index_builder = IndexBaseline(pred_uri_to_idx_colname, graphs, include_concept_type=True)\n",
    "\n",
    "rows = index_builder.build_rows()"
   ]
  },
  {
   "attachments": {},
   "cell_type": "markdown",
   "metadata": {},
   "source": [
    "# TEXT ANALYZER PROPERY"
   ]
  },
  {
   "cell_type": "code",
   "execution_count": 23,
   "metadata": {},
   "outputs": [],
   "source": [
    "template = \"\"\"\n",
    "{\n",
    "    \"settings\": {\n",
    "    \"number_of_shards\": 2,\n",
    "    \"number_of_replicas\": 1\n",
    "    },\n",
    "    \"mappings\": {\n",
    "        \"dynamic\": \"true\",\n",
    "        \"_source\": {\n",
    "        \"enabled\": \"true\"\n",
    "        },\n",
    "        \"properties\": {\n",
    "            \"name\": {\n",
    "                \"type\": \"text\"\n",
    "            },\n",
    "            \"label\": {\n",
    "                \"type\": \"text\",\n",
    "                \"analyzer\":\"english\"\n",
    "            },\n",
    "            \"type\": {\n",
    "                \"type\": \"text\"\n",
    "            },\n",
    "            \"closeMatch\": {\n",
    "                \"type\": \"text\"\n",
    "            },\n",
    "            \"related\": {\n",
    "                \"type\": \"text\",\n",
    "                \"analyzer\":\"english\"\n",
    "            },\n",
    "            \"broader\": {\n",
    "                \"type\": \"text\",\n",
    "                \"analyzer\":\"english\"\n",
    "            }\n",
    "        }\n",
    "    }\n",
    "}\n",
    "\"\"\""
   ]
  },
  {
   "cell_type": "code",
   "execution_count": 24,
   "metadata": {},
   "outputs": [
    {
     "data": {
      "text/plain": [
       "{'acknowledged': True,\n",
       " 'shards_acknowledged': True,\n",
       " 'index': 'ontology_analyzer'}"
      ]
     },
     "execution_count": 24,
     "metadata": {},
     "output_type": "execute_result"
    }
   ],
   "source": [
    "query = json.loads(template)\n",
    "response = requests.put('http://localhost:9200/ontology_analyzer',\n",
    "                       json=query)\n",
    "response.json()"
   ]
  },
  {
   "cell_type": "code",
   "execution_count": 30,
   "metadata": {},
   "outputs": [],
   "source": [
    "def bulk_load(rows, client, index_name):\n",
    "    requests = []\n",
    "    for i, row in enumerate(rows):\n",
    "        request = row\n",
    "        request[\"_op_type\"] = \"index\"\n",
    "        request[\"_index\"] = index_name\n",
    "        requests.append(request)\n",
    "    bulk(client, requests)"
   ]
  },
  {
   "cell_type": "code",
   "execution_count": 28,
   "metadata": {},
   "outputs": [],
   "source": [
    "def connect_elasticsearch():\n",
    "    _es = None\n",
    "    _es = Elasticsearch([{'host': 'localhost', 'port': 9200}])\n",
    "    if _es.ping():\n",
    "        print('Yay Connected')\n",
    "    else:\n",
    "        print('Awww it could not connect!')\n",
    "    return _es"
   ]
  },
  {
   "cell_type": "code",
   "execution_count": 29,
   "metadata": {},
   "outputs": [
    {
     "name": "stdout",
     "output_type": "stream",
     "text": [
      "Yay Connected\n"
     ]
    }
   ],
   "source": [
    "client = connect_elasticsearch()\n",
    "bulk_load(rows, client)"
   ]
  },
  {
   "attachments": {},
   "cell_type": "markdown",
   "metadata": {},
   "source": [
    "# KEYWORD TYPE"
   ]
  },
  {
   "cell_type": "code",
   "execution_count": 31,
   "metadata": {},
   "outputs": [],
   "source": [
    "template = \"\"\"\n",
    "{\n",
    "    \"mappings\": {\n",
    "        \"properties\": {\n",
    "            \"name\": {\n",
    "                \"type\": \"text\"\n",
    "            },\n",
    "            \"label\": {\n",
    "                \"type\": \"keyword\"\n",
    "            },\n",
    "            \"type\": {\n",
    "                \"type\": \"text\"\n",
    "            },\n",
    "            \"closeMatch\": {\n",
    "                \"type\": \"text\"\n",
    "            },\n",
    "            \"related\": {\n",
    "                \"type\": \"keyword\"\n",
    "            },\n",
    "            \"broader\": {\n",
    "                \"type\": \"keyword\"\n",
    "            }\n",
    "        }\n",
    "    }\n",
    "}\n",
    "\"\"\""
   ]
  },
  {
   "cell_type": "code",
   "execution_count": 32,
   "metadata": {},
   "outputs": [
    {
     "data": {
      "text/plain": [
       "{'acknowledged': True,\n",
       " 'shards_acknowledged': True,\n",
       " 'index': 'ontology_keyword'}"
      ]
     },
     "execution_count": 32,
     "metadata": {},
     "output_type": "execute_result"
    }
   ],
   "source": [
    "query = json.loads(template)\n",
    "response = requests.put('http://localhost:9200/ontology_keyword',\n",
    "                       json=query)\n",
    "response.json()"
   ]
  },
  {
   "cell_type": "code",
   "execution_count": 33,
   "metadata": {},
   "outputs": [
    {
     "name": "stdout",
     "output_type": "stream",
     "text": [
      "Yay Connected\n"
     ]
    }
   ],
   "source": [
    "client = connect_elasticsearch()\n",
    "bulk_load(rows, client, 'ontology_keyword')"
   ]
  },
  {
   "attachments": {},
   "cell_type": "markdown",
   "metadata": {},
   "source": [
    "# SIMILARITY"
   ]
  },
  {
   "cell_type": "code",
   "execution_count": null,
   "metadata": {},
   "outputs": [],
   "source": [
    "template = \"\"\"\n",
    "{\n",
    "    \"settings\": {\n",
    "        \"index\": {\n",
    "        \"similarity\": {\n",
    "            \"my_similarity\": {\n",
    "                \"type\": \"DFR\",\n",
    "                \"basic_model\": \"g\",\n",
    "                \"after_effect\": \"l\",\n",
    "                \"normalization\": \"h2\",\n",
    "                \"normalization.h2.c\": \"3.0\"\n",
    "                }\n",
    "            }\n",
    "        }\n",
    "    }\n",
    "    \"mappings\": {\n",
    "        \"properties\": {\n",
    "            \"name\": {\n",
    "                \"type\": \"text\"\n",
    "            },\n",
    "            \"label\": {\n",
    "                \"type\": \"keyword\",\n",
    "                \"similarity\" : \"my_similarity\"\n",
    "            },\n",
    "            \"type\": {\n",
    "                \"type\": \"text\"\n",
    "            },\n",
    "            \"closeMatch\": {\n",
    "                \"type\": \"text\"\n",
    "            },\n",
    "            \"related\": {\n",
    "                \"type\": \"keyword\",\n",
    "                \"similarity\" : \"my_similarity\"\n",
    "            },\n",
    "            \"broader\": {\n",
    "                \"type\": \"keyword\",\n",
    "                \"similarity\" : \"my_similarity\"\n",
    "            }\n",
    "        }\n",
    "    }\n",
    "}\n",
    "\"\"\""
   ]
  },
  {
   "cell_type": "code",
   "execution_count": 34,
   "metadata": {},
   "outputs": [
    {
     "data": {
      "text/plain": [
       "{'acknowledged': True,\n",
       " 'shards_acknowledged': True,\n",
       " 'index': 'ontology_similarity'}"
      ]
     },
     "execution_count": 34,
     "metadata": {},
     "output_type": "execute_result"
    }
   ],
   "source": [
    "query = json.loads(template)\n",
    "response = requests.put('http://localhost:9200/ontology_similarity',\n",
    "                       json=query)\n",
    "response.json()"
   ]
  },
  {
   "cell_type": "code",
   "execution_count": 35,
   "metadata": {},
   "outputs": [
    {
     "name": "stdout",
     "output_type": "stream",
     "text": [
      "Yay Connected\n"
     ]
    }
   ],
   "source": [
    "client = connect_elasticsearch()\n",
    "bulk_load(rows, client, 'ontology_similarity')"
   ]
  },
  {
   "attachments": {},
   "cell_type": "markdown",
   "metadata": {},
   "source": [
    "# SIMILARITY TFIDF"
   ]
  },
  {
   "cell_type": "code",
   "execution_count": 36,
   "metadata": {},
   "outputs": [],
   "source": [
    "template = \"\"\"\n",
    "{\n",
    "  \"settings\": {\n",
    "    \"number_of_shards\": 1,\n",
    "    \"similarity\": {\n",
    "      \"scripted_tfidf\": {\n",
    "        \"type\": \"scripted\",\n",
    "        \"script\": {\n",
    "          \"source\": \"double tf = Math.sqrt(doc.freq); double idf = Math.log((field.docCount+1.0)/(term.docFreq+1.0)) + 1.0; double norm = 1/Math.sqrt(doc.length); return query.boost * tf * idf * norm;\"\n",
    "        }\n",
    "      }\n",
    "    }\n",
    "  },\n",
    "  \"mappings\": {\n",
    "        \"properties\": {\n",
    "            \"name\": {\n",
    "                \"type\": \"text\"\n",
    "            },\n",
    "            \"label\": {\n",
    "                \"type\": \"keyword\",\n",
    "                \"similarity\" : \"scripted_tfidf\"\n",
    "            },\n",
    "            \"type\": {\n",
    "                \"type\": \"text\"\n",
    "            },\n",
    "            \"closeMatch\": {\n",
    "                \"type\": \"text\"\n",
    "            },\n",
    "            \"related\": {\n",
    "                \"type\": \"keyword\",\n",
    "                \"similarity\" : \"scripted_tfidf\"\n",
    "            },\n",
    "            \"broader\": {\n",
    "                \"type\": \"keyword\",\n",
    "                \"similarity\" : \"scripted_tfidf\"\n",
    "            }\n",
    "        }\n",
    "    }\n",
    "}\n",
    "\"\"\""
   ]
  },
  {
   "cell_type": "code",
   "execution_count": 37,
   "metadata": {},
   "outputs": [
    {
     "data": {
      "text/plain": [
       "{'acknowledged': True,\n",
       " 'shards_acknowledged': True,\n",
       " 'index': 'ontology_similarity_tfidf'}"
      ]
     },
     "execution_count": 37,
     "metadata": {},
     "output_type": "execute_result"
    }
   ],
   "source": [
    "query = json.loads(template)\n",
    "response = requests.put('http://localhost:9200/ontology_similarity_tfidf',\n",
    "                       json=query)\n",
    "response.json()"
   ]
  },
  {
   "cell_type": "code",
   "execution_count": 38,
   "metadata": {},
   "outputs": [
    {
     "name": "stdout",
     "output_type": "stream",
     "text": [
      "Yay Connected\n"
     ]
    }
   ],
   "source": [
    "client = connect_elasticsearch()\n",
    "bulk_load(rows, client, 'ontology_similarity_tfidf')"
   ]
  }
 ],
 "metadata": {
  "kernelspec": {
   "display_name": "opencs_paperclassification",
   "language": "python",
   "name": "python3"
  },
  "language_info": {
   "codemirror_mode": {
    "name": "ipython",
    "version": 3
   },
   "file_extension": ".py",
   "mimetype": "text/x-python",
   "name": "python",
   "nbconvert_exporter": "python",
   "pygments_lexer": "ipython3",
   "version": "3.10.8 | packaged by conda-forge | (main, Nov 24 2022, 14:07:00) [MSC v.1916 64 bit (AMD64)]"
  },
  "orig_nbformat": 4,
  "vscode": {
   "interpreter": {
    "hash": "e19e9f2b36856563ab2bd45ec684e0202f5df76d9a6b6b3b9ea70b7e0077d416"
   }
  }
 },
 "nbformat": 4,
 "nbformat_minor": 2
}
